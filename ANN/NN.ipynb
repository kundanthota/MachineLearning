{
 "cells": [
  {
   "cell_type": "code",
   "execution_count": 47,
   "metadata": {},
   "outputs": [],
   "source": [
    "#Load data as Pandas Dataframe using pandas\n",
    "#numpy for array and mathematical operations\n",
    "#matplotlib for ploting results"
   ]
  },
  {
   "cell_type": "code",
   "execution_count": 48,
   "metadata": {},
   "outputs": [],
   "source": [
    "import numpy as np\n",
    "import pandas as pd\n",
    "import matplotlib.pyplot as plt\n",
    "data=pd.read_csv('f:/python/DWH Training.csv',names=['height','weight','gender'])\n",
    "data.gender=data.gender.replace(-1,0)"
   ]
  },
  {
   "cell_type": "code",
   "execution_count": 49,
   "metadata": {},
   "outputs": [],
   "source": [
    "#Test data to test the trained model "
   ]
  },
  {
   "cell_type": "code",
   "execution_count": 50,
   "metadata": {},
   "outputs": [],
   "source": [
    "test_data=pd.read_csv('f:/python/DWH_test.csv',names=['height','weight','gender','d'])\n",
    "test_data=test_data[['height','weight','gender']]\n",
    "test_data.gender=test_data.gender.replace(-1,0)"
   ]
  },
  {
   "cell_type": "code",
   "execution_count": 51,
   "metadata": {},
   "outputs": [],
   "source": [
    "#standardization is recommended when continuous independent variables are measured at different scales.\n",
    "#we use z score for scaling data"
   ]
  },
  {
   "cell_type": "code",
   "execution_count": 52,
   "metadata": {},
   "outputs": [],
   "source": [
    "def standardize_data(data):\n",
    "    data['height']=(data['height']-np.mean(data['height']))/np.std(data['height'])\n",
    "    data['weight']=(data['weight']-np.mean(data['weight']))/np.std(data['weight'])\n",
    "    x=np.array(data[['height','weight']])\n",
    "    y=np.array([[i] for i in data.gender])\n",
    "    return x,y\n",
    "\n",
    "test_x,test_y=standardize_data(test_data)"
   ]
  },
  {
   "cell_type": "code",
   "execution_count": 53,
   "metadata": {},
   "outputs": [],
   "source": [
    "#To get output of test data using trained weights and bias"
   ]
  },
  {
   "cell_type": "code",
   "execution_count": 54,
   "metadata": {},
   "outputs": [],
   "source": [
    "def test_feedforward(test_x,test_y):\n",
    "    layer1 = sigmoid(np.dot(test_x,nn.weights1)+np.ones((len(test_x),1))*nn.bias1.mean())\n",
    "    layer2 = sigmoid(np.dot(layer1,nn.weights2)+np.ones((len(test_x),1))*nn.bias2.mean())\n",
    "    output = sigmoid(np.dot(layer2,nn.weights3)+np.ones((len(test_x),1))*nn.bias3.mean())\n",
    "    return output,test_y"
   ]
  },
  {
   "cell_type": "code",
   "execution_count": 55,
   "metadata": {},
   "outputs": [],
   "source": [
    "# Activation function is important in Neural Network to process varius inputs corresponding with the weights and bias"
   ]
  },
  {
   "cell_type": "code",
   "execution_count": 56,
   "metadata": {},
   "outputs": [],
   "source": [
    "def sigmoid(x):\n",
    "    return 1/(1+np.exp(-x))"
   ]
  },
  {
   "cell_type": "code",
   "execution_count": 57,
   "metadata": {},
   "outputs": [],
   "source": [
    "#derivative of Activaion function"
   ]
  },
  {
   "cell_type": "code",
   "execution_count": 58,
   "metadata": {},
   "outputs": [],
   "source": [
    "def sigmoid_derivative(x):\n",
    "    return sigmoid(x)*(1-sigmoid(x))"
   ]
  },
  {
   "cell_type": "code",
   "execution_count": 59,
   "metadata": {},
   "outputs": [],
   "source": [
    "#implementation of a Neural networks.\n",
    "#network consists of input, 2 hidden and output layers.\n",
    "#in the network there are two inputs(height and weight) in input layer.\n",
    "#each hidden layer contains 5 neurons \n",
    "#output neuron gives the gender"
   ]
  },
  {
   "cell_type": "code",
   "execution_count": 97,
   "metadata": {},
   "outputs": [],
   "source": [
    "class NeuralNetwork:\n",
    "    \n",
    "    def __init__(self,x,y):\n",
    "        np.random.seed(1)\n",
    "        \n",
    "        self.input = x\n",
    "        \n",
    "        #initialize with random weights ranging between 0 and 1.\n",
    "        self.weights1 = np.random.rand(self.input.shape[1],5)\n",
    "        self.weights2 = np.random.rand(5,5)\n",
    "        self.weights3 = np.random.rand(5,1)\n",
    "        \n",
    "        #initialize with random weights ranging between 0 and 1 \n",
    "        self.bias1=np.ones((len(self.input),1))*np.random.rand(1,5)\n",
    "        self.bias2=np.ones((len(self.input),1))*np.random.rand(1,5)\n",
    "        self.bias3=np.ones((len(self.input),1))*np.random.rand(1,1)\n",
    "        \n",
    "        #initialize momentum for weights with zeros and dimensions equal to dimensions of weights of each layer\n",
    "        self.momentum_w1=np.zeros((2,5))\n",
    "        self.momentum_w2=np.zeros((5,5))\n",
    "        self.momentum_w3=np.zeros((5,1))\n",
    "        \n",
    "        #initialize momentum for bias with random numbers ranging between 0 and 1 and dimensions equal to dimensions of bias of each layer\n",
    "        self.momentum_b1=np.random.rand(1,5)\n",
    "        self.momentum_b2=np.random.rand(1,5)\n",
    "        self.momentum_b3=np.random.rand(1,1)\n",
    "        \n",
    "        self.y=y\n",
    "        \n",
    "        self.output = np.zeros(self.y.shape)\n",
    "        \n",
    "        self.loss = 0\n",
    "        \n",
    "        self.loss1 = 0\n",
    "    \n",
    "    #calculates the derivative of loss function and its binary cross entropy function\n",
    "    def loss_function_derivative(self):\n",
    "        \n",
    "        return -(self.y/self.output)+((1-self.y)/(1-self.output))\n",
    "    \n",
    "    #calculates the output for each iteration\n",
    "    def feedforward(self):\n",
    "       \n",
    "        self.layer1 = sigmoid(np.dot(self.input,self.weights1)+self.bias1)\n",
    "        self.layer2 = sigmoid(np.dot(self.layer1,self.weights2)+self.bias2)\n",
    "        self.output = sigmoid(np.dot(self.layer2,self.weights3)+self.bias3) \n",
    "        \n",
    "    #based on loss at output layer it updates weights using backpropogation method\n",
    "    def back_propogation(self,l_rate,sie):\n",
    "        ls=[]\n",
    "        itr=[]\n",
    "        ls1=[]\n",
    "        for t in range(1,10001):\n",
    "            self.feedforward()\n",
    "            loss_func= self.loss_function_derivative()   \n",
    "            \n",
    "            #calucalate the derivative of weights at layer2\n",
    "            delta_3=np.multiply(loss_func,sigmoid_derivative(self.output) )\n",
    "            d_weights3 = np.dot(self.layer2.T,delta_3)\n",
    "            \n",
    "            #calucalate the derivative of weights at layer1\n",
    "            delta_2=np.dot(delta_3,self.weights3.T)*sigmoid_derivative(self.layer2)\n",
    "            d_weights2 = np.dot(self.layer1.T,delta_2)\n",
    "            \n",
    "            #calucalate the derivative of weights at input layer\n",
    "            delta_1=np.dot(delta_2,self.weights2.T)*sigmoid_derivative(self.layer1)\n",
    "            d_weights1 = np.dot(self.input.T,delta_1) \n",
    "            \n",
    "            #calucalate the derivative of bias at output layer\n",
    "            d_bias3=np.multiply(loss_func,sigmoid_derivative(self.output))\n",
    "            \n",
    "            #calucalate the derivative of bias at layer2\n",
    "            d_bias2=d_bias3*sigmoid_derivative(self.layer2)\n",
    "            \n",
    "            #calucalate the derivative of bias at layer1\n",
    "            d_bias1=d_bias2*sigmoid_derivative(self.layer1)  \n",
    "            \n",
    "            #momentum is used to increase training speed and accuracy in minimum iterations than a network without momentum.\n",
    "            self.momentum_w1 = sie*self.momentum_w1+d_weights1\n",
    "            self.momentum_w2 = sie*self.momentum_w2+d_weights2\n",
    "            self.momentum_w3 = sie*self.momentum_w3+d_weights3\n",
    "        \n",
    "            self.weights3 -= l_rate*self.momentum_w3\n",
    "            self.weights2 -= l_rate*self.momentum_w2\n",
    "            self.weights1 -= l_rate*self.momentum_w1\n",
    "            \n",
    "            self.momentum_b1 = sie*self.momentum_b1+d_bias1\n",
    "            self.momentum_b2 = sie*self.momentum_b2+d_bias2\n",
    "            self.momentum_b3 = sie*self.momentum_b3+d_bias3\n",
    "            \n",
    "            self.bias1 -= l_rate*self.momentum_b1\n",
    "            self.bias2 -= l_rate*self.momentum_b2\n",
    "            self.bias3 -= l_rate*self.momentum_b3\n",
    "            \n",
    "            test_op,y_test=test_feedforward(test_x,test_y)\n",
    "            \n",
    "            #calculates loss at output layer of training data\n",
    "            nn.loss=np.mean(np.square((nn.y*np.log(nn.output))+((1-nn.y)*np.log(1-nn.output))))\n",
    "            \n",
    "            #calculates loss at output layer of test data\n",
    "            nn.loss1=np.mean(np.square((y_test*np.log(test_op))+((1-y_test)*np.log(1-test_op))))\n",
    "                 \n",
    "            if t%1000==0:\n",
    "                itr.append(t)\n",
    "                #calcuates accuracy of train data after t iterations\n",
    "                tr_acc=float((len(y)-sum(np.square(y-np.round(nn.output))))/len(y)*100)\n",
    "                \n",
    "                #calcuates accuracy of test data after t iterations\n",
    "                te_acc=float((len(y_test)-sum(np.square(y_test-np.round(test_op))))/len(y_test)*100)\n",
    "                \n",
    "                ls.append(tr_acc)\n",
    "                ls1.append(te_acc)\n",
    "                \n",
    "                print(f'Training Accuracy after {t} iterations : {tr_acc}')\n",
    "                print()\n",
    "                print(f'Test Accuracy after {t} iterations : {te_acc}')\n",
    "                print()\n",
    "        return itr,ls,ls1\n",
    "    "
   ]
  },
  {
   "cell_type": "code",
   "execution_count": 98,
   "metadata": {},
   "outputs": [],
   "source": [
    "#plot a graph for Accuracy of test/train data against number of iterations "
   ]
  },
  {
   "cell_type": "code",
   "execution_count": 102,
   "metadata": {},
   "outputs": [
    {
     "name": "stdout",
     "output_type": "stream",
     "text": [
      "Training Accuracy after 1000 iterations : 52.1551724137931\n",
      "\n",
      "Test Accuracy after 1000 iterations : 44.44444444444444\n",
      "\n",
      "Training Accuracy after 2000 iterations : 52.58620689655172\n",
      "\n",
      "Test Accuracy after 2000 iterations : 44.44444444444444\n",
      "\n",
      "Training Accuracy after 3000 iterations : 66.37931034482759\n",
      "\n",
      "Test Accuracy after 3000 iterations : 44.44444444444444\n",
      "\n",
      "Training Accuracy after 4000 iterations : 86.63793103448276\n",
      "\n",
      "Test Accuracy after 4000 iterations : 46.666666666666664\n",
      "\n",
      "Training Accuracy after 5000 iterations : 86.20689655172413\n",
      "\n",
      "Test Accuracy after 5000 iterations : 82.22222222222221\n",
      "\n",
      "Training Accuracy after 6000 iterations : 87.06896551724138\n",
      "\n",
      "Test Accuracy after 6000 iterations : 82.22222222222221\n",
      "\n",
      "Training Accuracy after 7000 iterations : 88.36206896551724\n",
      "\n",
      "Test Accuracy after 7000 iterations : 86.66666666666667\n",
      "\n",
      "Training Accuracy after 8000 iterations : 90.51724137931035\n",
      "\n",
      "Test Accuracy after 8000 iterations : 86.66666666666667\n",
      "\n",
      "Training Accuracy after 9000 iterations : 90.51724137931035\n",
      "\n",
      "Test Accuracy after 9000 iterations : 86.66666666666667\n",
      "\n",
      "Training Accuracy after 10000 iterations : 91.37931034482759\n",
      "\n",
      "Test Accuracy after 10000 iterations : 86.66666666666667\n",
      "\n"
     ]
    },
    {
     "data": {
      "image/png": "[encoded data removed]",
      "text/plain": [
       "<Figure size 432x288 with 1 Axes>"
      ]
     },
     "metadata": {
      "needs_background": "light"
     },
     "output_type": "display_data"
    }
   ],
   "source": [
    "if __name__=='__main__':\n",
    "    \n",
    "    x,y=standardize_data(data)\n",
    "\n",
    "    nn=NeuralNetwork(x,y)\n",
    "\n",
    "    x_p,y_p,y_pp=nn.back_propogation(0.0001,0.1)\n",
    "    \n",
    "    plt.plot(x_p,y_p,label='Train Accuracy')\n",
    "    \n",
    "    plt.plot(x_p,y_pp,label='Test Accuracy')\n",
    "    \n",
    "    plt.legend(loc='best')\n",
    "    \n",
    "    plt.xlabel('Iterations')\n",
    "    \n",
    "    plt.ylabel('Accuracy')\n",
    "    \n",
    "    plt.title('Test vs Train Accuracy')\n",
    "    \n",
    "    plt.show()"
   ]
  },
  {
   "cell_type": "markdown",
   "metadata": {},
   "source": []
  },
  {
   "cell_type": "code",
   "execution_count": null,
   "metadata": {},
   "outputs": [],
   "source": []
  }
 ],
 "metadata": {
  "kernelspec": {
   "display_name": "Python 3",
   "language": "python",
   "name": "python3"
  },
  "language_info": {
   "codemirror_mode": {
    "name": "ipython",
    "version": 3
   },
   "file_extension": ".py",
   "mimetype": "text/x-python",
   "name": "python",
   "nbconvert_exporter": "python",
   "pygments_lexer": "ipython3",
   "version": "3.7.3"
  }
 },
 "nbformat": 4,
 "nbformat_minor": 2
}
