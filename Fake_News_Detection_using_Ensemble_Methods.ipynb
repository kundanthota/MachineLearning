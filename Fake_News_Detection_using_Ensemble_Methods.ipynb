{
  "nbformat": 4,
  "nbformat_minor": 0,
  "metadata": {
    "colab": {
      "name": "Untitled0.ipynb",
      "provenance": [],
      "collapsed_sections": []
    },
    "kernelspec": {
      "name": "python3",
      "display_name": "Python 3"
    },
    "accelerator": "GPU"
  },
  "cells": [
    {
      "cell_type": "code",
      "metadata": {
        "id": "ildEaF_Suv5Q",
        "colab_type": "code",
        "colab": {}
      },
      "source": [
        "import pandas as pd\n",
        "import numpy as np\n",
        "from sklearn.model_selection import train_test_split\n",
        "from sklearn.feature_extraction.text import TfidfVectorizer\n",
        "from sklearn.linear_model import LogisticRegression,SGDClassifier\n",
        "from sklearn.metrics import accuracy_score, confusion_matrix\n",
        "from sklearn.svm import SVC\n",
        "from sklearn.tree import DecisionTreeClassifier\n",
        "from sklearn.ensemble import RandomForestClassifier, AdaBoostClassifier\n",
        "from sklearn.naive_bayes import GaussianNB\n",
        "import matplotlib.pyplot as plt"
      ],
      "execution_count": 0,
      "outputs": []
    },
    {
      "cell_type": "code",
      "metadata": {
        "id": "tcO-kWZIveMH",
        "colab_type": "code",
        "outputId": "d733722a-cd16-4560-f0d4-f9a5bf1a8151",
        "colab": {
          "base_uri": "https://localhost:8080/",
          "height": 34
        }
      },
      "source": [
        "data=pd.read_csv('news.csv')\n",
        "data=data.sample(n=len(data))\n",
        "print(data.shape)"
      ],
      "execution_count": 2,
      "outputs": [
        {
          "output_type": "stream",
          "text": [
            "(6335, 4)\n"
          ],
          "name": "stdout"
        }
      ]
    },
    {
      "cell_type": "code",
      "metadata": {
        "id": "9VMyVXgyvzkX",
        "colab_type": "code",
        "outputId": "10b7980c-f6bb-45c5-e241-4c44e512a7f1",
        "colab": {
          "base_uri": "https://localhost:8080/",
          "height": 204
        }
      },
      "source": [
        "data.head()"
      ],
      "execution_count": 3,
      "outputs": [
        {
          "output_type": "execute_result",
          "data": {
            "text/html": [
              "<div>\n",
              "<style scoped>\n",
              "    .dataframe tbody tr th:only-of-type {\n",
              "        vertical-align: middle;\n",
              "    }\n",
              "\n",
              "    .dataframe tbody tr th {\n",
              "        vertical-align: top;\n",
              "    }\n",
              "\n",
              "    .dataframe thead th {\n",
              "        text-align: right;\n",
              "    }\n",
              "</style>\n",
              "<table border=\"1\" class=\"dataframe\">\n",
              "  <thead>\n",
              "    <tr style=\"text-align: right;\">\n",
              "      <th></th>\n",
              "      <th>Unnamed: 0</th>\n",
              "      <th>title</th>\n",
              "      <th>text</th>\n",
              "      <th>label</th>\n",
              "    </tr>\n",
              "  </thead>\n",
              "  <tbody>\n",
              "    <tr>\n",
              "      <th>182</th>\n",
              "      <td>3008</td>\n",
              "      <td>Iran carries out new ballistic missile test</td>\n",
              "      <td>Iran successfully test-fired a medium-range ba...</td>\n",
              "      <td>REAL</td>\n",
              "    </tr>\n",
              "    <tr>\n",
              "      <th>1509</th>\n",
              "      <td>6405</td>\n",
              "      <td>FBI Found \"Tens Of Thousands Of Emails\" Belong...</td>\n",
              "      <td>FBI Found \"Tens Of Thousands Of Emails\" Belong...</td>\n",
              "      <td>FAKE</td>\n",
              "    </tr>\n",
              "    <tr>\n",
              "      <th>1309</th>\n",
              "      <td>8879</td>\n",
              "      <td>BREAKING: Trump Rushed Off Stage After Alleged...</td>\n",
              "      <td>With Election Day only three days away, tensio...</td>\n",
              "      <td>FAKE</td>\n",
              "    </tr>\n",
              "    <tr>\n",
              "      <th>591</th>\n",
              "      <td>9253</td>\n",
              "      <td>James Comey to be taken out, knows too much ab...</td>\n",
              "      <td>James Comey to be taken out, knows too much ab...</td>\n",
              "      <td>FAKE</td>\n",
              "    </tr>\n",
              "    <tr>\n",
              "      <th>988</th>\n",
              "      <td>322</td>\n",
              "      <td>David Sweat shot, captured alive after New Yor...</td>\n",
              "      <td>Malone, New York (CNN) After a massive, more-t...</td>\n",
              "      <td>REAL</td>\n",
              "    </tr>\n",
              "  </tbody>\n",
              "</table>\n",
              "</div>"
            ],
            "text/plain": [
              "      Unnamed: 0  ... label\n",
              "182         3008  ...  REAL\n",
              "1509        6405  ...  FAKE\n",
              "1309        8879  ...  FAKE\n",
              "591         9253  ...  FAKE\n",
              "988          322  ...  REAL\n",
              "\n",
              "[5 rows x 4 columns]"
            ]
          },
          "metadata": {
            "tags": []
          },
          "execution_count": 3
        }
      ]
    },
    {
      "cell_type": "code",
      "metadata": {
        "id": "x9DAJxbuxUqD",
        "colab_type": "code",
        "outputId": "9421bdae-b90b-43f1-bfe0-78fe8ed0cc38",
        "colab": {
          "base_uri": "https://localhost:8080/",
          "height": 204
        }
      },
      "source": [
        "data=data[['text','label']]\n",
        "data.head()"
      ],
      "execution_count": 4,
      "outputs": [
        {
          "output_type": "execute_result",
          "data": {
            "text/html": [
              "<div>\n",
              "<style scoped>\n",
              "    .dataframe tbody tr th:only-of-type {\n",
              "        vertical-align: middle;\n",
              "    }\n",
              "\n",
              "    .dataframe tbody tr th {\n",
              "        vertical-align: top;\n",
              "    }\n",
              "\n",
              "    .dataframe thead th {\n",
              "        text-align: right;\n",
              "    }\n",
              "</style>\n",
              "<table border=\"1\" class=\"dataframe\">\n",
              "  <thead>\n",
              "    <tr style=\"text-align: right;\">\n",
              "      <th></th>\n",
              "      <th>text</th>\n",
              "      <th>label</th>\n",
              "    </tr>\n",
              "  </thead>\n",
              "  <tbody>\n",
              "    <tr>\n",
              "      <th>182</th>\n",
              "      <td>Iran successfully test-fired a medium-range ba...</td>\n",
              "      <td>REAL</td>\n",
              "    </tr>\n",
              "    <tr>\n",
              "      <th>1509</th>\n",
              "      <td>FBI Found \"Tens Of Thousands Of Emails\" Belong...</td>\n",
              "      <td>FAKE</td>\n",
              "    </tr>\n",
              "    <tr>\n",
              "      <th>1309</th>\n",
              "      <td>With Election Day only three days away, tensio...</td>\n",
              "      <td>FAKE</td>\n",
              "    </tr>\n",
              "    <tr>\n",
              "      <th>591</th>\n",
              "      <td>James Comey to be taken out, knows too much ab...</td>\n",
              "      <td>FAKE</td>\n",
              "    </tr>\n",
              "    <tr>\n",
              "      <th>988</th>\n",
              "      <td>Malone, New York (CNN) After a massive, more-t...</td>\n",
              "      <td>REAL</td>\n",
              "    </tr>\n",
              "  </tbody>\n",
              "</table>\n",
              "</div>"
            ],
            "text/plain": [
              "                                                   text label\n",
              "182   Iran successfully test-fired a medium-range ba...  REAL\n",
              "1509  FBI Found \"Tens Of Thousands Of Emails\" Belong...  FAKE\n",
              "1309  With Election Day only three days away, tensio...  FAKE\n",
              "591   James Comey to be taken out, knows too much ab...  FAKE\n",
              "988   Malone, New York (CNN) After a massive, more-t...  REAL"
            ]
          },
          "metadata": {
            "tags": []
          },
          "execution_count": 4
        }
      ]
    },
    {
      "cell_type": "code",
      "metadata": {
        "id": "kCeopGjKxfR7",
        "colab_type": "code",
        "colab": {}
      },
      "source": [
        "train_feature,test_feature,train_label,test_label=train_test_split(data['text'],data['label'],test_size=0.2,random_state=7)"
      ],
      "execution_count": 0,
      "outputs": []
    },
    {
      "cell_type": "code",
      "metadata": {
        "id": "Hu7tclbUySSR",
        "colab_type": "code",
        "colab": {}
      },
      "source": [
        "tfidf_vectorizer=TfidfVectorizer(stop_words='english', max_df=0.7)\n",
        "train_feature=tfidf_vectorizer.fit_transform(train_feature) \n",
        "test_feature=tfidf_vectorizer.transform(test_feature)"
      ],
      "execution_count": 0,
      "outputs": []
    },
    {
      "cell_type": "code",
      "metadata": {
        "id": "6sO_TdMmydem",
        "colab_type": "code",
        "colab": {}
      },
      "source": [
        "def classification(classifier,train_feature,test_feature,train_label,test_label):\n",
        "  model= classifier\n",
        "  model.fit(train_feature, train_label)\n",
        "  predicted_label = model.predict(test_feature)\n",
        "  accuracy=accuracy_score(predicted_label,test_label)*100\n",
        "  conf_matrix=confusion_matrix(predicted_label,test_label, labels=['FAKE','REAL'])\n",
        "  conf_matrix=pd.DataFrame(conf_matrix,columns=['FAKE','REAL'],index=['FAKE','REAL'])\n",
        "  return accuracy,conf_matrix\n",
        "\n"
      ],
      "execution_count": 0,
      "outputs": []
    },
    {
      "cell_type": "code",
      "metadata": {
        "id": "YmJB78a63JYv",
        "colab_type": "code",
        "colab": {}
      },
      "source": [
        "\n",
        "classifiers = [\n",
        "    SVC(kernel=\"linear\", C=0.25),\n",
        "    SVC(gamma=2, C=1),\n",
        "    DecisionTreeClassifier(),\n",
        "    RandomForestClassifier(),\n",
        "    SGDClassifier(max_iter=50),\n",
        "    LogisticRegression(C=1e4,max_iter=50)\n",
        "    ]\n",
        "\n",
        "\n",
        "classifier_names =[\n",
        "    \"LinearKernel\",\n",
        "    \"RBFKernel\",\n",
        "    \"Decision Tree\", \n",
        "    \"Random Forest\",\n",
        "    \"SGD\",\n",
        "    \"Logistic Regression\"                 \n",
        "]\n"
      ],
      "execution_count": 0,
      "outputs": []
    },
    {
      "cell_type": "code",
      "metadata": {
        "id": "5_R0ugaARIQX",
        "colab_type": "code",
        "colab": {}
      },
      "source": [
        "def plot(values,name):\n",
        "  x_values=[\"TruePositive\",\"TrueNegative\",\"FalsePositive\",\"FalseNegative\"]\n",
        "  plt.bar(x_values,values,align='center')\n",
        "  plt.title(f'confusion matrix of {name}')\n",
        "  plt.xlabel('Truth Values')\n",
        "  plt.ylabel('Count')\n",
        "  plt.show()\n"
      ],
      "execution_count": 0,
      "outputs": []
    },
    {
      "cell_type": "code",
      "metadata": {
        "id": "jroiQlG14k6Y",
        "colab_type": "code",
        "outputId": "7a6af6ba-14b5-4e3f-d052-cd840f16fdc5",
        "colab": {
          "base_uri": "https://localhost:8080/",
          "height": 1000
        }
      },
      "source": [
        "acc=[]\n",
        "values=[]\n",
        "for name,classifier in zip(classifier_names,classifiers):\n",
        "  accuracy,conf_matrix=classification(classifier,train_feature,test_feature,train_label,test_label)\n",
        "  print(f\"\\n-----------------------{name}------------------------\\n\")\n",
        "  print(f\"accuracy : {accuracy} \\n\")\n",
        "  print(f\"confusion Matrix :\\n \\n{conf_matrix}\\n\")\n",
        "  acc.append(accuracy)\n",
        "  plot(list(conf_matrix.values.flatten()),name)"
      ],
      "execution_count": 10,
      "outputs": [
        {
          "output_type": "stream",
          "text": [
            "\n",
            "-----------------------LinearKernel------------------------\n",
            "\n",
            "accuracy : 91.79163378058406 \n",
            "\n",
            "confusion Matrix :\n",
            " \n",
            "      FAKE  REAL\n",
            "FAKE   624    68\n",
            "REAL    36   539\n",
            "\n"
          ],
          "name": "stdout"
        },
        {
          "output_type": "display_data",
          "data": {
            "image/png": "[encoded data removed]",
            "text/plain": [
              "<Figure size 432x288 with 1 Axes>"
            ]
          },
          "metadata": {
            "tags": []
          }
        },
        {
          "output_type": "stream",
          "text": [
            "\n",
            "-----------------------RBFKernel------------------------\n",
            "\n",
            "accuracy : 91.71270718232044 \n",
            "\n",
            "confusion Matrix :\n",
            " \n",
            "      FAKE  REAL\n",
            "FAKE   632    77\n",
            "REAL    28   530\n",
            "\n"
          ],
          "name": "stdout"
        },
        {
          "output_type": "display_data",
          "data": {
            "image/png": "[encoded data removed]",
            "text/plain": [
              "<Figure size 432x288 with 1 Axes>"
            ]
          },
          "metadata": {
            "tags": []
          }
        },
        {
          "output_type": "stream",
          "text": [
            "\n",
            "-----------------------Decision Tree------------------------\n",
            "\n",
            "accuracy : 81.21546961325967 \n",
            "\n",
            "confusion Matrix :\n",
            " \n",
            "      FAKE  REAL\n",
            "FAKE   531   109\n",
            "REAL   129   498\n",
            "\n"
          ],
          "name": "stdout"
        },
        {
          "output_type": "display_data",
          "data": {
            "image/png": "[encoded data removed]",
            "text/plain": [
              "<Figure size 432x288 with 1 Axes>"
            ]
          },
          "metadata": {
            "tags": []
          }
        },
        {
          "output_type": "stream",
          "text": [
            "/usr/local/lib/python3.6/dist-packages/sklearn/ensemble/forest.py:245: FutureWarning: The default value of n_estimators will change from 10 in version 0.20 to 100 in 0.22.\n",
            "  \"10 in version 0.20 to 100 in 0.22.\", FutureWarning)\n"
          ],
          "name": "stderr"
        },
        {
          "output_type": "stream",
          "text": [
            "\n",
            "-----------------------Random Forest------------------------\n",
            "\n",
            "accuracy : 83.82004735595896 \n",
            "\n",
            "confusion Matrix :\n",
            " \n",
            "      FAKE  REAL\n",
            "FAKE   581   126\n",
            "REAL    79   481\n",
            "\n"
          ],
          "name": "stdout"
        },
        {
          "output_type": "display_data",
          "data": {
            "image/png": "[encoded data removed]",
            "text/plain": [
              "<Figure size 432x288 with 1 Axes>"
            ]
          },
          "metadata": {
            "tags": []
          }
        },
        {
          "output_type": "stream",
          "text": [
            "\n",
            "-----------------------SGD------------------------\n",
            "\n",
            "accuracy : 94.31728492501973 \n",
            "\n",
            "confusion Matrix :\n",
            " \n",
            "      FAKE  REAL\n",
            "FAKE   625    37\n",
            "REAL    35   570\n",
            "\n"
          ],
          "name": "stdout"
        },
        {
          "output_type": "display_data",
          "data": {
            "image/png": "[encoded data removed]",
            "text/plain": [
              "<Figure size 432x288 with 1 Axes>"
            ]
          },
          "metadata": {
            "tags": []
          }
        },
        {
          "output_type": "stream",
          "text": [
            "/usr/local/lib/python3.6/dist-packages/sklearn/linear_model/logistic.py:432: FutureWarning: Default solver will be changed to 'lbfgs' in 0.22. Specify a solver to silence this warning.\n",
            "  FutureWarning)\n"
          ],
          "name": "stderr"
        },
        {
          "output_type": "stream",
          "text": [
            "\n",
            "-----------------------Logistic Regression------------------------\n",
            "\n",
            "accuracy : 94.39621152328334 \n",
            "\n",
            "confusion Matrix :\n",
            " \n",
            "      FAKE  REAL\n",
            "FAKE   627    38\n",
            "REAL    33   569\n",
            "\n"
          ],
          "name": "stdout"
        },
        {
          "output_type": "display_data",
          "data": {
            "image/png": "[encoded data removed]",
            "text/plain": [
              "<Figure size 432x288 with 1 Axes>"
            ]
          },
          "metadata": {
            "tags": []
          }
        }
      ]
    },
    {
      "cell_type": "markdown",
      "metadata": {
        "id": "3dG5h_jvJJ1c",
        "colab_type": "text"
      },
      "source": [
        ""
      ]
    },
    {
      "cell_type": "code",
      "metadata": {
        "id": "Xv1M9aU3MYiR",
        "colab_type": "code",
        "colab": {
          "base_uri": "https://localhost:8080/",
          "height": 350
        },
        "outputId": "5926160e-f9b0-47ab-9310-a0fff2a7f299"
      },
      "source": [
        "plt.figure(figsize=(10,5))\n",
        "plt.bar(classifier_names,acc,align='center')\n",
        "plt.title('Accuracy for Different models')\n",
        "plt.xlabel('Model Name')\n",
        "plt.ylabel('Accuracy')\n",
        "plt.show()"
      ],
      "execution_count": 14,
      "outputs": [
        {
          "output_type": "display_data",
          "data": {
            "image/png": "[encoded data removed]",
            "text/plain": [
              "<Figure size 720x360 with 1 Axes>"
            ]
          },
          "metadata": {
            "tags": []
          }
        }
      ]
    },
    {
      "cell_type": "code",
      "metadata": {
        "id": "GCLwzbhOGWe6",
        "colab_type": "code",
        "colab": {}
      },
      "source": [
        ""
      ],
      "execution_count": 0,
      "outputs": []
    },
    {
      "cell_type": "code",
      "metadata": {
        "id": "gy170Yw8QDib",
        "colab_type": "code",
        "colab": {}
      },
      "source": [
        ""
      ],
      "execution_count": 0,
      "outputs": []
    }
  ]
}